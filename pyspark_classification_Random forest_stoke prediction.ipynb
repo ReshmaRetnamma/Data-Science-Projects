{
 "cells": [
  {
   "cell_type": "markdown",
   "metadata": {},
   "source": [
    "### pyspark -RANDOMFOREST Classifictaion model for Stroke prediction"
   ]
  },
  {
   "cell_type": "code",
   "execution_count": 50,
   "metadata": {},
   "outputs": [],
   "source": [
    "#set environment\n",
    "import os\n",
    "import sys\n",
    " \n",
    "os.environ[\"SPARK_HOME\"] = \"/usr/hdp/current/spark2-client\"\n",
    "os.environ[\"PYLIB\"] = os.environ[\"SPARK_HOME\"] + \"/python/lib\"\n",
    "# In below two lines, use /usr/bin/python2.7 if you want to use Python 2\n",
    "os.environ[\"PYSPARK_PYTHON\"] = \"/usr/local/anaconda/bin/python\" \n",
    "os.environ[\"PYSPARK_DRIVER_PYTHON\"] = \"/usr/local/anaconda/bin/python\"\n",
    "sys.path.insert(0, os.environ[\"PYLIB\"] +\"/py4j-0.10.4-src.zip\")\n",
    "sys.path.insert(0, os.environ[\"PYLIB\"] +\"/pyspark.zip\")"
   ]
  },
  {
   "cell_type": "code",
   "execution_count": 51,
   "metadata": {},
   "outputs": [],
   "source": [
    "#import Sparksession driver\n",
    "from pyspark.sql import SparkSession\n",
    "spark = SparkSession \\\n",
    "    .builder \\\n",
    "    .appName(\"Classification of Car Dataset\") \\\n",
    "    .getOrCreate()"
   ]
  },
  {
   "cell_type": "code",
   "execution_count": 52,
   "metadata": {},
   "outputs": [
    {
     "name": "stdout",
     "output_type": "stream",
     "text": [
      "+------+----+------------+-------------+--------------+-------------+--------------+-----------------+-----------+---------------+------+\n",
      "|gender| age|hypertension|heart_disease|Marital_status|    work_type|Residence_type|avg_glucose_level|        bmi| smoking_status|stroke|\n",
      "+------+----+------------+-------------+--------------+-------------+--------------+-----------------+-----------+---------------+------+\n",
      "|  Male|67.0|           0|            1|           Yes|      Private|         Urban|           228.69|       36.6|formerly smoked|     1|\n",
      "|Female|61.0|           0|            0|           Yes|Self-employed|         Rural|           202.21|28.89323691|   never smoked|     1|\n",
      "|  Male|80.0|           0|            1|           Yes|      Private|         Rural|           105.92|       32.5|   never smoked|     1|\n",
      "|Female|49.0|           0|            0|           Yes|      Private|         Urban|           171.23|       34.4|         smokes|     1|\n",
      "|Female|79.0|           1|            0|           Yes|Self-employed|         Rural|           174.12|       24.0|   never smoked|     1|\n",
      "|  Male|81.0|           0|            0|           Yes|      Private|         Urban|           186.21|       29.0|formerly smoked|     1|\n",
      "|  Male|74.0|           1|            1|           Yes|      Private|         Rural|            70.09|       27.4|   never smoked|     1|\n",
      "|Female|69.0|           0|            0|            No|      Private|         Urban|            94.39|       22.8|   never smoked|     1|\n",
      "|Female|59.0|           0|            0|           Yes|      Private|         Rural|            76.15|28.89323691|        Unknown|     1|\n",
      "|Female|78.0|           0|            0|           Yes|      Private|         Urban|            58.57|       24.2|        Unknown|     1|\n",
      "|Female|81.0|           1|            0|           Yes|      Private|         Rural|            80.43|       29.7|   never smoked|     1|\n",
      "|Female|61.0|           0|            1|           Yes|     Govt_job|         Rural|           120.46|       36.8|         smokes|     1|\n",
      "|Female|54.0|           0|            0|           Yes|      Private|         Urban|           104.51|       27.3|         smokes|     1|\n",
      "|  Male|78.0|           0|            1|           Yes|      Private|         Urban|           219.84|28.89323691|        Unknown|     1|\n",
      "|Female|79.0|           0|            1|           Yes|      Private|         Urban|           214.09|       28.2|   never smoked|     1|\n",
      "|Female|50.0|           1|            0|           Yes|Self-employed|         Rural|           167.41|       30.9|   never smoked|     1|\n",
      "|  Male|64.0|           0|            1|           Yes|      Private|         Urban|           191.61|       37.5|         smokes|     1|\n",
      "|  Male|75.0|           1|            0|           Yes|      Private|         Urban|           221.29|       25.8|         smokes|     1|\n",
      "|Female|60.0|           0|            0|            No|      Private|         Urban|            89.22|       37.8|   never smoked|     1|\n",
      "|  Male|57.0|           0|            1|            No|     Govt_job|         Urban|           217.08|28.89323691|        Unknown|     1|\n",
      "+------+----+------------+-------------+--------------+-------------+--------------+-----------------+-----------+---------------+------+\n",
      "only showing top 20 rows\n",
      "\n"
     ]
    }
   ],
   "source": [
    "df = spark.read.csv('new_classification2_try.csv',inferSchema=True,header=True)\n",
    "df.show()"
   ]
  },
  {
   "cell_type": "code",
   "execution_count": 53,
   "metadata": {},
   "outputs": [],
   "source": [
    "df= df.drop(\"_c0\")"
   ]
  },
  {
   "cell_type": "code",
   "execution_count": 54,
   "metadata": {},
   "outputs": [
    {
     "name": "stdout",
     "output_type": "stream",
     "text": [
      "root\n",
      " |-- gender: string (nullable = true)\n",
      " |-- age: double (nullable = true)\n",
      " |-- hypertension: integer (nullable = true)\n",
      " |-- heart_disease: integer (nullable = true)\n",
      " |-- Marital_status: string (nullable = true)\n",
      " |-- work_type: string (nullable = true)\n",
      " |-- Residence_type: string (nullable = true)\n",
      " |-- avg_glucose_level: double (nullable = true)\n",
      " |-- bmi: double (nullable = true)\n",
      " |-- smoking_status: string (nullable = true)\n",
      " |-- stroke: integer (nullable = true)\n",
      "\n"
     ]
    }
   ],
   "source": [
    "df.printSchema()"
   ]
  },
  {
   "cell_type": "code",
   "execution_count": 55,
   "metadata": {},
   "outputs": [
    {
     "name": "stdout",
     "output_type": "stream",
     "text": [
      "no. of cells in column gender with null values: 0\n",
      "no. of cells in column age with null values: 0\n",
      "no. of cells in column hypertension with null values: 0\n",
      "no. of cells in column heart_disease with null values: 0\n",
      "no. of cells in column Marital_status with null values: 0\n",
      "no. of cells in column work_type with null values: 0\n",
      "no. of cells in column Residence_type with null values: 0\n",
      "no. of cells in column avg_glucose_level with null values: 0\n",
      "no. of cells in column bmi with null values: 0\n",
      "no. of cells in column smoking_status with null values: 0\n",
      "no. of cells in column stroke with null values: 0\n"
     ]
    }
   ],
   "source": [
    "#Check for missing values\n",
    "for col in df.columns:\n",
    "    print(\"no. of cells in column\", col, \"with null values:\", df.filter(df[col].isNull()).count())"
   ]
  },
  {
   "cell_type": "code",
   "execution_count": 56,
   "metadata": {},
   "outputs": [
    {
     "name": "stdout",
     "output_type": "stream",
     "text": [
      "+------+----+------------+-------------+--------------+-------------+--------------+-----------------+-----------+---------------+------+--------------+----------------------+-----------------+----------------------+----------------------+\n",
      "|gender| age|hypertension|heart_disease|Marital_status|    work_type|Residence_type|avg_glucose_level|        bmi| smoking_status|stroke|gender_encoded|Marital_status_encoded|work_type_encoded|Residence_type_encoded|smoking_status_encoded|\n",
      "+------+----+------------+-------------+--------------+-------------+--------------+-----------------+-----------+---------------+------+--------------+----------------------+-----------------+----------------------+----------------------+\n",
      "|  Male|67.0|           0|            1|           Yes|      Private|         Urban|           228.69|       36.6|formerly smoked|     1|           1.0|                   0.0|              0.0|                   0.0|                   2.0|\n",
      "|Female|61.0|           0|            0|           Yes|Self-employed|         Rural|           202.21|28.89323691|   never smoked|     1|           0.0|                   0.0|              1.0|                   1.0|                   0.0|\n",
      "|  Male|80.0|           0|            1|           Yes|      Private|         Rural|           105.92|       32.5|   never smoked|     1|           1.0|                   0.0|              0.0|                   1.0|                   0.0|\n",
      "|Female|49.0|           0|            0|           Yes|      Private|         Urban|           171.23|       34.4|         smokes|     1|           0.0|                   0.0|              0.0|                   0.0|                   3.0|\n",
      "|Female|79.0|           1|            0|           Yes|Self-employed|         Rural|           174.12|       24.0|   never smoked|     1|           0.0|                   0.0|              1.0|                   1.0|                   0.0|\n",
      "|  Male|81.0|           0|            0|           Yes|      Private|         Urban|           186.21|       29.0|formerly smoked|     1|           1.0|                   0.0|              0.0|                   0.0|                   2.0|\n",
      "|  Male|74.0|           1|            1|           Yes|      Private|         Rural|            70.09|       27.4|   never smoked|     1|           1.0|                   0.0|              0.0|                   1.0|                   0.0|\n",
      "|Female|69.0|           0|            0|            No|      Private|         Urban|            94.39|       22.8|   never smoked|     1|           0.0|                   1.0|              0.0|                   0.0|                   0.0|\n",
      "|Female|59.0|           0|            0|           Yes|      Private|         Rural|            76.15|28.89323691|        Unknown|     1|           0.0|                   0.0|              0.0|                   1.0|                   1.0|\n",
      "|Female|78.0|           0|            0|           Yes|      Private|         Urban|            58.57|       24.2|        Unknown|     1|           0.0|                   0.0|              0.0|                   0.0|                   1.0|\n",
      "|Female|81.0|           1|            0|           Yes|      Private|         Rural|            80.43|       29.7|   never smoked|     1|           0.0|                   0.0|              0.0|                   1.0|                   0.0|\n",
      "|Female|61.0|           0|            1|           Yes|     Govt_job|         Rural|           120.46|       36.8|         smokes|     1|           0.0|                   0.0|              3.0|                   1.0|                   3.0|\n",
      "|Female|54.0|           0|            0|           Yes|      Private|         Urban|           104.51|       27.3|         smokes|     1|           0.0|                   0.0|              0.0|                   0.0|                   3.0|\n",
      "|  Male|78.0|           0|            1|           Yes|      Private|         Urban|           219.84|28.89323691|        Unknown|     1|           1.0|                   0.0|              0.0|                   0.0|                   1.0|\n",
      "|Female|79.0|           0|            1|           Yes|      Private|         Urban|           214.09|       28.2|   never smoked|     1|           0.0|                   0.0|              0.0|                   0.0|                   0.0|\n",
      "|Female|50.0|           1|            0|           Yes|Self-employed|         Rural|           167.41|       30.9|   never smoked|     1|           0.0|                   0.0|              1.0|                   1.0|                   0.0|\n",
      "|  Male|64.0|           0|            1|           Yes|      Private|         Urban|           191.61|       37.5|         smokes|     1|           1.0|                   0.0|              0.0|                   0.0|                   3.0|\n",
      "|  Male|75.0|           1|            0|           Yes|      Private|         Urban|           221.29|       25.8|         smokes|     1|           1.0|                   0.0|              0.0|                   0.0|                   3.0|\n",
      "|Female|60.0|           0|            0|            No|      Private|         Urban|            89.22|       37.8|   never smoked|     1|           0.0|                   1.0|              0.0|                   0.0|                   0.0|\n",
      "|  Male|57.0|           0|            1|            No|     Govt_job|         Urban|           217.08|28.89323691|        Unknown|     1|           1.0|                   1.0|              3.0|                   0.0|                   1.0|\n",
      "+------+----+------------+-------------+--------------+-------------+--------------+-----------------+-----------+---------------+------+--------------+----------------------+-----------------+----------------------+----------------------+\n",
      "only showing top 20 rows\n",
      "\n"
     ]
    }
   ],
   "source": [
    "#Label encoder\n",
    "from pyspark.ml.feature import StringIndexer\n",
    "indexed = df\n",
    "for col in ['gender','Marital_status','work_type','Residence_type','smoking_status']:\n",
    "    stringIndexer = StringIndexer(inputCol=col, outputCol=col+\"_encoded\")\n",
    "    indexed = stringIndexer.fit(indexed).transform(indexed)\n",
    "indexed.show()"
   ]
  },
  {
   "cell_type": "code",
   "execution_count": 57,
   "metadata": {},
   "outputs": [
    {
     "name": "stdout",
     "output_type": "stream",
     "text": [
      "+------+----+------------+-------------+--------------+-------------+--------------+-----------------+-----------+---------------+------+--------------+----------------------+-----------------+----------------------+----------------------+-------------+\n",
      "|gender| age|hypertension|heart_disease|Marital_status|    work_type|Residence_type|avg_glucose_level|        bmi| smoking_status|stroke|gender_encoded|Marital_status_encoded|work_type_encoded|Residence_type_encoded|smoking_status_encoded|work_type_vec|\n",
      "+------+----+------------+-------------+--------------+-------------+--------------+-----------------+-----------+---------------+------+--------------+----------------------+-----------------+----------------------+----------------------+-------------+\n",
      "|  Male|67.0|           0|            1|           Yes|      Private|         Urban|           228.69|       36.6|formerly smoked|     1|           1.0|                   0.0|              0.0|                   0.0|                   2.0|(4,[0],[1.0])|\n",
      "|Female|61.0|           0|            0|           Yes|Self-employed|         Rural|           202.21|28.89323691|   never smoked|     1|           0.0|                   0.0|              1.0|                   1.0|                   0.0|(4,[1],[1.0])|\n",
      "|  Male|80.0|           0|            1|           Yes|      Private|         Rural|           105.92|       32.5|   never smoked|     1|           1.0|                   0.0|              0.0|                   1.0|                   0.0|(4,[0],[1.0])|\n",
      "|Female|49.0|           0|            0|           Yes|      Private|         Urban|           171.23|       34.4|         smokes|     1|           0.0|                   0.0|              0.0|                   0.0|                   3.0|(4,[0],[1.0])|\n",
      "|Female|79.0|           1|            0|           Yes|Self-employed|         Rural|           174.12|       24.0|   never smoked|     1|           0.0|                   0.0|              1.0|                   1.0|                   0.0|(4,[1],[1.0])|\n",
      "|  Male|81.0|           0|            0|           Yes|      Private|         Urban|           186.21|       29.0|formerly smoked|     1|           1.0|                   0.0|              0.0|                   0.0|                   2.0|(4,[0],[1.0])|\n",
      "|  Male|74.0|           1|            1|           Yes|      Private|         Rural|            70.09|       27.4|   never smoked|     1|           1.0|                   0.0|              0.0|                   1.0|                   0.0|(4,[0],[1.0])|\n",
      "|Female|69.0|           0|            0|            No|      Private|         Urban|            94.39|       22.8|   never smoked|     1|           0.0|                   1.0|              0.0|                   0.0|                   0.0|(4,[0],[1.0])|\n",
      "|Female|59.0|           0|            0|           Yes|      Private|         Rural|            76.15|28.89323691|        Unknown|     1|           0.0|                   0.0|              0.0|                   1.0|                   1.0|(4,[0],[1.0])|\n",
      "|Female|78.0|           0|            0|           Yes|      Private|         Urban|            58.57|       24.2|        Unknown|     1|           0.0|                   0.0|              0.0|                   0.0|                   1.0|(4,[0],[1.0])|\n",
      "|Female|81.0|           1|            0|           Yes|      Private|         Rural|            80.43|       29.7|   never smoked|     1|           0.0|                   0.0|              0.0|                   1.0|                   0.0|(4,[0],[1.0])|\n",
      "|Female|61.0|           0|            1|           Yes|     Govt_job|         Rural|           120.46|       36.8|         smokes|     1|           0.0|                   0.0|              3.0|                   1.0|                   3.0|(4,[3],[1.0])|\n",
      "|Female|54.0|           0|            0|           Yes|      Private|         Urban|           104.51|       27.3|         smokes|     1|           0.0|                   0.0|              0.0|                   0.0|                   3.0|(4,[0],[1.0])|\n",
      "|  Male|78.0|           0|            1|           Yes|      Private|         Urban|           219.84|28.89323691|        Unknown|     1|           1.0|                   0.0|              0.0|                   0.0|                   1.0|(4,[0],[1.0])|\n",
      "|Female|79.0|           0|            1|           Yes|      Private|         Urban|           214.09|       28.2|   never smoked|     1|           0.0|                   0.0|              0.0|                   0.0|                   0.0|(4,[0],[1.0])|\n",
      "|Female|50.0|           1|            0|           Yes|Self-employed|         Rural|           167.41|       30.9|   never smoked|     1|           0.0|                   0.0|              1.0|                   1.0|                   0.0|(4,[1],[1.0])|\n",
      "|  Male|64.0|           0|            1|           Yes|      Private|         Urban|           191.61|       37.5|         smokes|     1|           1.0|                   0.0|              0.0|                   0.0|                   3.0|(4,[0],[1.0])|\n",
      "|  Male|75.0|           1|            0|           Yes|      Private|         Urban|           221.29|       25.8|         smokes|     1|           1.0|                   0.0|              0.0|                   0.0|                   3.0|(4,[0],[1.0])|\n",
      "|Female|60.0|           0|            0|            No|      Private|         Urban|            89.22|       37.8|   never smoked|     1|           0.0|                   1.0|              0.0|                   0.0|                   0.0|(4,[0],[1.0])|\n",
      "|  Male|57.0|           0|            1|            No|     Govt_job|         Urban|           217.08|28.89323691|        Unknown|     1|           1.0|                   1.0|              3.0|                   0.0|                   1.0|(4,[3],[1.0])|\n",
      "+------+----+------------+-------------+--------------+-------------+--------------+-----------------+-----------+---------------+------+--------------+----------------------+-----------------+----------------------+----------------------+-------------+\n",
      "only showing top 20 rows\n",
      "\n"
     ]
    }
   ],
   "source": [
    "#One hot encoder\n",
    "from pyspark.ml.feature import OneHotEncoder\n",
    "encoder = OneHotEncoder(inputCol=\"work_type_encoded\",outputCol=\"work_type_vec\",dropLast=True)\n",
    "encoded = encoder.transform(indexed)\n",
    "encoded.show()"
   ]
  },
  {
   "cell_type": "code",
   "execution_count": 58,
   "metadata": {},
   "outputs": [
    {
     "name": "stdout",
     "output_type": "stream",
     "text": [
      "+------+----+------------+-------------+--------------+-------------+--------------+-----------------+-----------+---------------+------+--------------+----------------------+-----------------+----------------------+----------------------+-------------+------------------+\n",
      "|gender| age|hypertension|heart_disease|Marital_status|    work_type|Residence_type|avg_glucose_level|        bmi| smoking_status|stroke|gender_encoded|Marital_status_encoded|work_type_encoded|Residence_type_encoded|smoking_status_encoded|work_type_vec|smoking_status_vec|\n",
      "+------+----+------------+-------------+--------------+-------------+--------------+-----------------+-----------+---------------+------+--------------+----------------------+-----------------+----------------------+----------------------+-------------+------------------+\n",
      "|  Male|67.0|           0|            1|           Yes|      Private|         Urban|           228.69|       36.6|formerly smoked|     1|           1.0|                   0.0|              0.0|                   0.0|                   2.0|(4,[0],[1.0])|     (3,[2],[1.0])|\n",
      "|Female|61.0|           0|            0|           Yes|Self-employed|         Rural|           202.21|28.89323691|   never smoked|     1|           0.0|                   0.0|              1.0|                   1.0|                   0.0|(4,[1],[1.0])|     (3,[0],[1.0])|\n",
      "|  Male|80.0|           0|            1|           Yes|      Private|         Rural|           105.92|       32.5|   never smoked|     1|           1.0|                   0.0|              0.0|                   1.0|                   0.0|(4,[0],[1.0])|     (3,[0],[1.0])|\n",
      "|Female|49.0|           0|            0|           Yes|      Private|         Urban|           171.23|       34.4|         smokes|     1|           0.0|                   0.0|              0.0|                   0.0|                   3.0|(4,[0],[1.0])|         (3,[],[])|\n",
      "|Female|79.0|           1|            0|           Yes|Self-employed|         Rural|           174.12|       24.0|   never smoked|     1|           0.0|                   0.0|              1.0|                   1.0|                   0.0|(4,[1],[1.0])|     (3,[0],[1.0])|\n",
      "|  Male|81.0|           0|            0|           Yes|      Private|         Urban|           186.21|       29.0|formerly smoked|     1|           1.0|                   0.0|              0.0|                   0.0|                   2.0|(4,[0],[1.0])|     (3,[2],[1.0])|\n",
      "|  Male|74.0|           1|            1|           Yes|      Private|         Rural|            70.09|       27.4|   never smoked|     1|           1.0|                   0.0|              0.0|                   1.0|                   0.0|(4,[0],[1.0])|     (3,[0],[1.0])|\n",
      "|Female|69.0|           0|            0|            No|      Private|         Urban|            94.39|       22.8|   never smoked|     1|           0.0|                   1.0|              0.0|                   0.0|                   0.0|(4,[0],[1.0])|     (3,[0],[1.0])|\n",
      "|Female|59.0|           0|            0|           Yes|      Private|         Rural|            76.15|28.89323691|        Unknown|     1|           0.0|                   0.0|              0.0|                   1.0|                   1.0|(4,[0],[1.0])|     (3,[1],[1.0])|\n",
      "|Female|78.0|           0|            0|           Yes|      Private|         Urban|            58.57|       24.2|        Unknown|     1|           0.0|                   0.0|              0.0|                   0.0|                   1.0|(4,[0],[1.0])|     (3,[1],[1.0])|\n",
      "|Female|81.0|           1|            0|           Yes|      Private|         Rural|            80.43|       29.7|   never smoked|     1|           0.0|                   0.0|              0.0|                   1.0|                   0.0|(4,[0],[1.0])|     (3,[0],[1.0])|\n",
      "|Female|61.0|           0|            1|           Yes|     Govt_job|         Rural|           120.46|       36.8|         smokes|     1|           0.0|                   0.0|              3.0|                   1.0|                   3.0|(4,[3],[1.0])|         (3,[],[])|\n",
      "|Female|54.0|           0|            0|           Yes|      Private|         Urban|           104.51|       27.3|         smokes|     1|           0.0|                   0.0|              0.0|                   0.0|                   3.0|(4,[0],[1.0])|         (3,[],[])|\n",
      "|  Male|78.0|           0|            1|           Yes|      Private|         Urban|           219.84|28.89323691|        Unknown|     1|           1.0|                   0.0|              0.0|                   0.0|                   1.0|(4,[0],[1.0])|     (3,[1],[1.0])|\n",
      "|Female|79.0|           0|            1|           Yes|      Private|         Urban|           214.09|       28.2|   never smoked|     1|           0.0|                   0.0|              0.0|                   0.0|                   0.0|(4,[0],[1.0])|     (3,[0],[1.0])|\n",
      "|Female|50.0|           1|            0|           Yes|Self-employed|         Rural|           167.41|       30.9|   never smoked|     1|           0.0|                   0.0|              1.0|                   1.0|                   0.0|(4,[1],[1.0])|     (3,[0],[1.0])|\n",
      "|  Male|64.0|           0|            1|           Yes|      Private|         Urban|           191.61|       37.5|         smokes|     1|           1.0|                   0.0|              0.0|                   0.0|                   3.0|(4,[0],[1.0])|         (3,[],[])|\n",
      "|  Male|75.0|           1|            0|           Yes|      Private|         Urban|           221.29|       25.8|         smokes|     1|           1.0|                   0.0|              0.0|                   0.0|                   3.0|(4,[0],[1.0])|         (3,[],[])|\n",
      "|Female|60.0|           0|            0|            No|      Private|         Urban|            89.22|       37.8|   never smoked|     1|           0.0|                   1.0|              0.0|                   0.0|                   0.0|(4,[0],[1.0])|     (3,[0],[1.0])|\n",
      "|  Male|57.0|           0|            1|            No|     Govt_job|         Urban|           217.08|28.89323691|        Unknown|     1|           1.0|                   1.0|              3.0|                   0.0|                   1.0|(4,[3],[1.0])|     (3,[1],[1.0])|\n",
      "+------+----+------------+-------------+--------------+-------------+--------------+-----------------+-----------+---------------+------+--------------+----------------------+-----------------+----------------------+----------------------+-------------+------------------+\n",
      "only showing top 20 rows\n",
      "\n"
     ]
    }
   ],
   "source": [
    "#One hot encoder\n",
    "from pyspark.ml.feature import OneHotEncoder\n",
    "encoder = OneHotEncoder(inputCol=\"smoking_status_encoded\",outputCol=\"smoking_status_vec\",dropLast=True)\n",
    "encoded = encoder.transform(encoded)\n",
    "encoded.show()"
   ]
  },
  {
   "cell_type": "code",
   "execution_count": 59,
   "metadata": {},
   "outputs": [
    {
     "name": "stdout",
     "output_type": "stream",
     "text": [
      "root\n",
      " |-- gender: string (nullable = true)\n",
      " |-- age: double (nullable = true)\n",
      " |-- hypertension: integer (nullable = true)\n",
      " |-- heart_disease: integer (nullable = true)\n",
      " |-- Marital_status: string (nullable = true)\n",
      " |-- work_type: string (nullable = true)\n",
      " |-- Residence_type: string (nullable = true)\n",
      " |-- avg_glucose_level: double (nullable = true)\n",
      " |-- bmi: double (nullable = true)\n",
      " |-- smoking_status: string (nullable = true)\n",
      " |-- stroke: integer (nullable = true)\n",
      "\n"
     ]
    }
   ],
   "source": [
    "df.printSchema()"
   ]
  },
  {
   "cell_type": "code",
   "execution_count": 60,
   "metadata": {},
   "outputs": [
    {
     "name": "stdout",
     "output_type": "stream",
     "text": [
      "+--------------------+------+\n",
      "|            features|stroke|\n",
      "+--------------------+------+\n",
      "|(15,[0,1,3,5,10,1...|     1|\n",
      "|(15,[1,6,9,10,11,...|     1|\n",
      "|(15,[0,1,3,5,9,10...|     1|\n",
      "|(15,[1,5,10,11],[...|     1|\n",
      "|(15,[1,2,6,9,10,1...|     1|\n",
      "+--------------------+------+\n",
      "only showing top 5 rows\n",
      "\n"
     ]
    }
   ],
   "source": [
    "#all the independent variables need to be packed into one column of vector type\n",
    "from pyspark.ml.feature import VectorAssembler\n",
    "assembler = VectorAssembler(inputCols=[\"gender_encoded\",\"age\",\"hypertension\",\"heart_disease\",\"Marital_status_encoded\",\"work_type_vec\",\"Residence_type_encoded\",\"avg_glucose_level\",\"bmi\",\"smoking_status_vec\"], \n",
    "                            outputCol=\"features\")\n",
    "feature_vec=assembler.transform(encoded).select('features','stroke')\n",
    "feature_vec.show(5)"
   ]
  },
  {
   "cell_type": "code",
   "execution_count": 61,
   "metadata": {},
   "outputs": [
    {
     "name": "stdout",
     "output_type": "stream",
     "text": [
      "+------+-----+\n",
      "|stroke|count|\n",
      "+------+-----+\n",
      "|     1|  249|\n",
      "|     0| 4861|\n",
      "+------+-----+\n",
      "\n"
     ]
    }
   ],
   "source": [
    "#Count of target classes\n",
    "feature_vec.groupBy('stroke').count().show()\n",
    "#there is data imbalance"
   ]
  },
  {
   "cell_type": "code",
   "execution_count": 62,
   "metadata": {},
   "outputs": [],
   "source": [
    "# Split the data into train and test sets\n",
    "train_data, test_data = feature_vec.randomSplit([.75,.25],seed=0)"
   ]
  },
  {
   "cell_type": "code",
   "execution_count": 63,
   "metadata": {},
   "outputs": [],
   "source": [
    "from pyspark.ml.classification import RandomForestClassifier\n",
    "#Grid Search\n",
    "from pyspark.ml.tuning import ParamGridBuilder, CrossValidator\n",
    "from pyspark.ml.evaluation import MulticlassClassificationEvaluator\n",
    "rf = RandomForestClassifier( labelCol='stroke',seed=0)\n",
    "paramGrid = (ParamGridBuilder()\\\n",
    "             .addGrid(rf.maxDepth,[10,11,12])\\\n",
    "             .addGrid(rf.numTrees,[20,30,40])\\\n",
    "             .build())\n",
    "\n",
    "evaluator = MulticlassClassificationEvaluator(predictionCol='prediction', labelCol='stroke', metricName='f1')\n",
    "# Create 4-fold CrossValidator\n",
    "cv = CrossValidator(estimator=rf, estimatorParamMaps=paramGrid, evaluator=evaluator, numFolds=4)\n",
    "\n",
    "cvModel = cv.fit(train_data)"
   ]
  },
  {
   "cell_type": "code",
   "execution_count": 64,
   "metadata": {},
   "outputs": [
    {
     "data": {
      "text/plain": [
       "(0.9273151304798342,\n",
       " {Param(parent='RandomForestClassifier_42d29efe77b84a7387a1', name='maxDepth', doc='Maximum depth of the tree. (>= 0) E.g., depth 0 means 1 leaf node; depth 1 means 1 internal node + 2 leaf nodes.'): 10,\n",
       "  Param(parent='RandomForestClassifier_42d29efe77b84a7387a1', name='numTrees', doc='Number of trees to train (>= 1).'): 20})"
      ]
     },
     "execution_count": 64,
     "metadata": {},
     "output_type": "execute_result"
    }
   ],
   "source": [
    "#Best Model Params\n",
    "score_params_list = list(zip(cvModel.avgMetrics, cvModel.getEstimatorParamMaps()))\n",
    "max(score_params_list,key=lambda item:item[0])"
   ]
  },
  {
   "cell_type": "code",
   "execution_count": 65,
   "metadata": {},
   "outputs": [
    {
     "data": {
      "text/plain": [
       "0.9314948577847166"
      ]
     },
     "execution_count": 65,
     "metadata": {},
     "output_type": "execute_result"
    }
   ],
   "source": [
    "predictions = cvModel.transform(test_data)\n",
    "evaluator.evaluate(predictions) "
   ]
  },
  {
   "cell_type": "markdown",
   "metadata": {},
   "source": [
    "#### Interpretation\n",
    "Here we can see that we have an accuracy of 93% for testing ,which indicates a good fit model.Tis is a a score which is almost similar to the score that i got in sklearn Randomforest."
   ]
  }
 ],
 "metadata": {
  "kernelspec": {
   "display_name": "Python 3",
   "language": "python",
   "name": "python3"
  },
  "language_info": {
   "codemirror_mode": {
    "name": "ipython",
    "version": 3
   },
   "file_extension": ".py",
   "mimetype": "text/x-python",
   "name": "python",
   "nbconvert_exporter": "python",
   "pygments_lexer": "ipython3",
   "version": "3.6.8"
  },
  "toc": {
   "base_numbering": 1,
   "nav_menu": {},
   "number_sections": true,
   "sideBar": true,
   "skip_h1_title": false,
   "title_cell": "Table of Contents",
   "title_sidebar": "Contents",
   "toc_cell": false,
   "toc_position": {},
   "toc_section_display": true,
   "toc_window_display": false
  }
 },
 "nbformat": 4,
 "nbformat_minor": 2
}
